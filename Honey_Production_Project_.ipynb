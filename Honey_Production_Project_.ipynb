{
  "nbformat": 4,
  "nbformat_minor": 0,
  "metadata": {
    "colab": {
      "name": "Honey Production Project_.ipynb",
      "provenance": [],
      "authorship_tag": "ABX9TyPzANNGBRDGZmDRCzLLPywb",
      "include_colab_link": true
    },
    "kernelspec": {
      "name": "python3",
      "display_name": "Python 3"
    }
  },
  "cells": [
    {
      "cell_type": "markdown",
      "metadata": {
        "id": "view-in-github",
        "colab_type": "text"
      },
      "source": [
        "<a href=\"https://colab.research.google.com/github/devzohaib/Honey-Production/blob/master/Honey_Production_Project_.ipynb\" target=\"_parent\"><img src=\"https://colab.research.google.com/assets/colab-badge.svg\" alt=\"Open In Colab\"/></a>"
      ]
    },
    {
      "cell_type": "code",
      "metadata": {
        "id": "eGNxv0x7IhpU"
      },
      "source": [
        "\r\n",
        "import pandas as pd\r\n",
        "import matplotlib.pyplot as plt\r\n",
        "import numpy as np\r\n",
        "from sklearn import linear_model\r\n",
        "\r\n",
        "df = pd.read_csv(\"https://raw.githubusercontent.com/devzohaib/Honey-Production/master/honeyproduction.csv\")"
      ],
      "execution_count": 1,
      "outputs": []
    },
    {
      "cell_type": "markdown",
      "metadata": {
        "id": "wBReFtLOJ3xF"
      },
      "source": [
        "### Use .head() to get a sense of how this DataFrame is structured."
      ]
    },
    {
      "cell_type": "code",
      "metadata": {
        "colab": {
          "base_uri": "https://localhost:8080/",
          "height": 202
        },
        "id": "yWDI2uEaJxOp",
        "outputId": "eb9611d3-f3a8-4643-9262-5d101e409043"
      },
      "source": [
        "df.head()"
      ],
      "execution_count": 2,
      "outputs": [
        {
          "output_type": "execute_result",
          "data": {
            "text/html": [
              "<div>\n",
              "<style scoped>\n",
              "    .dataframe tbody tr th:only-of-type {\n",
              "        vertical-align: middle;\n",
              "    }\n",
              "\n",
              "    .dataframe tbody tr th {\n",
              "        vertical-align: top;\n",
              "    }\n",
              "\n",
              "    .dataframe thead th {\n",
              "        text-align: right;\n",
              "    }\n",
              "</style>\n",
              "<table border=\"1\" class=\"dataframe\">\n",
              "  <thead>\n",
              "    <tr style=\"text-align: right;\">\n",
              "      <th></th>\n",
              "      <th>state</th>\n",
              "      <th>numcol</th>\n",
              "      <th>yieldpercol</th>\n",
              "      <th>totalprod</th>\n",
              "      <th>stocks</th>\n",
              "      <th>priceperlb</th>\n",
              "      <th>prodvalue</th>\n",
              "      <th>year</th>\n",
              "    </tr>\n",
              "  </thead>\n",
              "  <tbody>\n",
              "    <tr>\n",
              "      <th>0</th>\n",
              "      <td>AL</td>\n",
              "      <td>16000.0</td>\n",
              "      <td>71</td>\n",
              "      <td>1136000.0</td>\n",
              "      <td>159000.0</td>\n",
              "      <td>0.72</td>\n",
              "      <td>818000.0</td>\n",
              "      <td>1998</td>\n",
              "    </tr>\n",
              "    <tr>\n",
              "      <th>1</th>\n",
              "      <td>AZ</td>\n",
              "      <td>55000.0</td>\n",
              "      <td>60</td>\n",
              "      <td>3300000.0</td>\n",
              "      <td>1485000.0</td>\n",
              "      <td>0.64</td>\n",
              "      <td>2112000.0</td>\n",
              "      <td>1998</td>\n",
              "    </tr>\n",
              "    <tr>\n",
              "      <th>2</th>\n",
              "      <td>AR</td>\n",
              "      <td>53000.0</td>\n",
              "      <td>65</td>\n",
              "      <td>3445000.0</td>\n",
              "      <td>1688000.0</td>\n",
              "      <td>0.59</td>\n",
              "      <td>2033000.0</td>\n",
              "      <td>1998</td>\n",
              "    </tr>\n",
              "    <tr>\n",
              "      <th>3</th>\n",
              "      <td>CA</td>\n",
              "      <td>450000.0</td>\n",
              "      <td>83</td>\n",
              "      <td>37350000.0</td>\n",
              "      <td>12326000.0</td>\n",
              "      <td>0.62</td>\n",
              "      <td>23157000.0</td>\n",
              "      <td>1998</td>\n",
              "    </tr>\n",
              "    <tr>\n",
              "      <th>4</th>\n",
              "      <td>CO</td>\n",
              "      <td>27000.0</td>\n",
              "      <td>72</td>\n",
              "      <td>1944000.0</td>\n",
              "      <td>1594000.0</td>\n",
              "      <td>0.70</td>\n",
              "      <td>1361000.0</td>\n",
              "      <td>1998</td>\n",
              "    </tr>\n",
              "  </tbody>\n",
              "</table>\n",
              "</div>"
            ],
            "text/plain": [
              "  state    numcol  yieldpercol  ...  priceperlb   prodvalue  year\n",
              "0    AL   16000.0           71  ...        0.72    818000.0  1998\n",
              "1    AZ   55000.0           60  ...        0.64   2112000.0  1998\n",
              "2    AR   53000.0           65  ...        0.59   2033000.0  1998\n",
              "3    CA  450000.0           83  ...        0.62  23157000.0  1998\n",
              "4    CO   27000.0           72  ...        0.70   1361000.0  1998\n",
              "\n",
              "[5 rows x 8 columns]"
            ]
          },
          "metadata": {
            "tags": []
          },
          "execution_count": 2
        }
      ]
    },
    {
      "cell_type": "markdown",
      "metadata": {
        "id": "pWZTy8UqKSwL"
      },
      "source": [
        "### For now, we care about the total production of honey per year. Use the `.groupby()` method provided by pandas to get the mean of `totalprod` per year. Store this in a variable called `prod_per_year.`"
      ]
    },
    {
      "cell_type": "code",
      "metadata": {
        "colab": {
          "base_uri": "https://localhost:8080/",
          "height": 202
        },
        "id": "eYlOvpYLKMcb",
        "outputId": "d0d7d633-62fa-49bc-e20c-f9ac785e57dc"
      },
      "source": [
        "prod_per_year = df.groupby('year').totalprod.mean().reset_index()\r\n",
        "prod_per_year.head()"
      ],
      "execution_count": 4,
      "outputs": [
        {
          "output_type": "execute_result",
          "data": {
            "text/html": [
              "<div>\n",
              "<style scoped>\n",
              "    .dataframe tbody tr th:only-of-type {\n",
              "        vertical-align: middle;\n",
              "    }\n",
              "\n",
              "    .dataframe tbody tr th {\n",
              "        vertical-align: top;\n",
              "    }\n",
              "\n",
              "    .dataframe thead th {\n",
              "        text-align: right;\n",
              "    }\n",
              "</style>\n",
              "<table border=\"1\" class=\"dataframe\">\n",
              "  <thead>\n",
              "    <tr style=\"text-align: right;\">\n",
              "      <th></th>\n",
              "      <th>year</th>\n",
              "      <th>totalprod</th>\n",
              "    </tr>\n",
              "  </thead>\n",
              "  <tbody>\n",
              "    <tr>\n",
              "      <th>0</th>\n",
              "      <td>1998</td>\n",
              "      <td>5.105093e+06</td>\n",
              "    </tr>\n",
              "    <tr>\n",
              "      <th>1</th>\n",
              "      <td>1999</td>\n",
              "      <td>4.706674e+06</td>\n",
              "    </tr>\n",
              "    <tr>\n",
              "      <th>2</th>\n",
              "      <td>2000</td>\n",
              "      <td>5.106000e+06</td>\n",
              "    </tr>\n",
              "    <tr>\n",
              "      <th>3</th>\n",
              "      <td>2001</td>\n",
              "      <td>4.221545e+06</td>\n",
              "    </tr>\n",
              "    <tr>\n",
              "      <th>4</th>\n",
              "      <td>2002</td>\n",
              "      <td>3.892386e+06</td>\n",
              "    </tr>\n",
              "  </tbody>\n",
              "</table>\n",
              "</div>"
            ],
            "text/plain": [
              "   year     totalprod\n",
              "0  1998  5.105093e+06\n",
              "1  1999  4.706674e+06\n",
              "2  2000  5.106000e+06\n",
              "3  2001  4.221545e+06\n",
              "4  2002  3.892386e+06"
            ]
          },
          "metadata": {
            "tags": []
          },
          "execution_count": 4
        }
      ]
    },
    {
      "cell_type": "markdown",
      "metadata": {
        "id": "Ua8WBCdmKlch"
      },
      "source": [
        "### Create a variable called `X` that is the column of `years` in this `prod_per_year` DataFrame. After creating `X`, we will need to reshape it to get it into the right format, using this command: \r\n",
        "`X = X.values.reshape(-1, 1)`"
      ]
    },
    {
      "cell_type": "code",
      "metadata": {
        "id": "f8JVIOAAKcoI"
      },
      "source": [
        "X = prod_per_year['year']\r\n",
        "X = X.values.reshape(-1,1)"
      ],
      "execution_count": 5,
      "outputs": []
    },
    {
      "cell_type": "markdown",
      "metadata": {
        "id": "PP7fbhkoMBMu"
      },
      "source": [
        "### Create a variable called `y` that is the `totalprod` column in the `prod_per_year` dataset."
      ]
    },
    {
      "cell_type": "code",
      "metadata": {
        "id": "GUj43E73MAg2"
      },
      "source": [
        "y = prod_per_year['totalprod']"
      ],
      "execution_count": 6,
      "outputs": []
    },
    {
      "cell_type": "markdown",
      "metadata": {
        "id": "9BomjOmOMQBE"
      },
      "source": [
        "\r\n",
        "### Using `plt.scatter()`, plot y vs X as a scatterplot. Display the plot using `plt.show()`. Can you see a vaguely linear relationship between these variables?"
      ]
    },
    {
      "cell_type": "code",
      "metadata": {
        "colab": {
          "base_uri": "https://localhost:8080/",
          "height": 276
        },
        "id": "-00gqH6UMXbg",
        "outputId": "38e01190-c43c-4366-f57c-a3050cc3ccff"
      },
      "source": [
        "plt.scatter(X,y)\r\n",
        "plt.show()"
      ],
      "execution_count": 7,
      "outputs": [
        {
          "output_type": "display_data",
          "data": {
            "image/png": "[encoded data removed]",
            "text/plain": [
              "<Figure size 432x288 with 1 Axes>"
            ]
          },
          "metadata": {
            "tags": [],
            "needs_background": "light"
          }
        }
      ]
    },
    {
      "cell_type": "markdown",
      "metadata": {
        "id": "GogdoBO6MpcI"
      },
      "source": [
        "# Create and Fit a Linear Regression Model\r\n",
        "\r\n",
        "### Create a linear regression model from scikit-learn and call it `regr`. Use the `LinearRegression`() constructor from the `linear_model` module to do this."
      ]
    },
    {
      "cell_type": "code",
      "metadata": {
        "colab": {
          "base_uri": "https://localhost:8080/"
        },
        "id": "WKqcAJqaMyqd",
        "outputId": "12b38fa7-2185-46c1-e6f7-2949e5d91ae0"
      },
      "source": [
        "regr = linear_model.LinearRegression()\r\n",
        "regr.fit(X,y)\r\n",
        "regr.coef_\r\n",
        "regr.intercept_"
      ],
      "execution_count": 9,
      "outputs": [
        {
          "output_type": "execute_result",
          "data": {
            "text/plain": [
              "181208083.10732976"
            ]
          },
          "metadata": {
            "tags": []
          },
          "execution_count": 9
        }
      ]
    },
    {
      "cell_type": "code",
      "metadata": {
        "id": "lFH_Nv00Qu32"
      },
      "source": [
        "y_predict = regr.predict(X)\r\n"
      ],
      "execution_count": 10,
      "outputs": []
    },
    {
      "cell_type": "markdown",
      "metadata": {
        "id": "gJkZ1HDvQ0qL"
      },
      "source": [
        "Plot y_predict vs X as a line, on top of your scatterplot using plt.plot().\r\n",
        "\r\n",
        "Make sure to call plt.show() after plotting the line."
      ]
    },
    {
      "cell_type": "code",
      "metadata": {
        "colab": {
          "base_uri": "https://localhost:8080/",
          "height": 276
        },
        "id": "9QhFeb1ZQ1k-",
        "outputId": "c765caaf-6423-49eb-899a-c946a283adb9"
      },
      "source": [
        "plt.scatter(X,y)\r\n",
        "plt.plot(X,y_predict)\r\n",
        "plt.show()"
      ],
      "execution_count": 14,
      "outputs": [
        {
          "output_type": "display_data",
          "data": {
            "image/png": "[encoded data removed]",
            "text/plain": [
              "<Figure size 432x288 with 1 Axes>"
            ]
          },
          "metadata": {
            "tags": [],
            "needs_background": "light"
          }
        }
      ]
    },
    {
      "cell_type": "markdown",
      "metadata": {
        "id": "Dw7lW44MTREx"
      },
      "source": [
        "###So, it looks like the production of honey has been in decline, according to this linear model. Let’s predict what the year 2050 may look like in terms of honey production. Our known dataset stops at the year 2013, so let’s create a NumPy array called X_future that is the range from 2013 to 2050. \r\n",
        "\r\n",
        "You can think of reshape() as rotating this array. Rather than one big row of numbers, X_future is now a big column of numbers — there’s one number in each row."
      ]
    },
    {
      "cell_type": "code",
      "metadata": {
        "id": "1rUU_XsnTZCy"
      },
      "source": [
        "X_future = np.array(range(2013, 2051))\r\n",
        "X_future = X_future.reshape(-1, 1)\r\n"
      ],
      "execution_count": 15,
      "outputs": []
    },
    {
      "cell_type": "markdown",
      "metadata": {
        "id": "K86tu1kTT2MI"
      },
      "source": [
        "###Create a list called `future_predict` that is the y-values that your regr model would predict for the values of `X_future`."
      ]
    },
    {
      "cell_type": "code",
      "metadata": {
        "id": "4qOF2Rd9TA47"
      },
      "source": [
        "future_predict = regr.predict(X_future)\r\n"
      ],
      "execution_count": 17,
      "outputs": []
    },
    {
      "cell_type": "markdown",
      "metadata": {
        "id": "jwQ2hYdRUG12"
      },
      "source": [
        "\r\n",
        "### Plot future_predict vs X_future on a different plot.\r\n",
        "\r\n",
        "####How much honey will be produced in the year 2050, according to this?"
      ]
    },
    {
      "cell_type": "code",
      "metadata": {
        "colab": {
          "base_uri": "https://localhost:8080/",
          "height": 293
        },
        "id": "XOq49B6VUMTc",
        "outputId": "7573ce94-1267-43a8-cf09-425fc55722fd"
      },
      "source": [
        "plt.plot(X_future,future_predict)"
      ],
      "execution_count": 18,
      "outputs": [
        {
          "output_type": "execute_result",
          "data": {
            "text/plain": [
              "[<matplotlib.lines.Line2D at 0x7f24ebf23438>]"
            ]
          },
          "metadata": {
            "tags": []
          },
          "execution_count": 18
        },
        {
          "output_type": "display_data",
          "data": {
            "image/png": "[encoded data removed]",
            "text/plain": [
              "<Figure size 432x288 with 1 Axes>"
            ]
          },
          "metadata": {
            "tags": [],
            "needs_background": "light"
          }
        }
      ]
    }
  ]
}